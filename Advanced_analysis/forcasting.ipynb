{
 "cells": [
  {
   "cell_type": "code",
   "execution_count": 4,
   "metadata": {},
   "outputs": [
    {
     "name": "stdout",
     "output_type": "stream",
     "text": [
      "Warning: Not enough data for seasonal decomposition. Using a non-seasonal model.\n",
      "\n",
      "##### Next 3 months forecast:\n",
      "2025-01-01    1.640576e+08\n",
      "2025-02-01    1.660495e+08\n",
      "2025-03-01    1.680414e+08\n",
      "Freq: MS, dtype: float64\n"
     ]
    },
    {
     "name": "stderr",
     "output_type": "stream",
     "text": [
      "/home/moses/.local/lib/python3.8/site-packages/statsmodels/tsa/holtwinters/model.py:917: ConvergenceWarning: Optimization failed to converge. Check mle_retvals.\n",
      "  warnings.warn(\n"
     ]
    }
   ],
   "source": [
    "\"\"\"Forecasting the total sales (Value) for the next 3 months\"\"\"\n",
    "from statsmodels.tsa.holtwinters import ExponentialSmoothing\n",
    "import pandas as pd\n",
    "\n",
    "def forecast_sales(df):\n",
    "    # Group data by Month-Year and sum Total_Value\n",
    "    time_series = df.groupby('Month-Year')['Total_Value'].sum().reset_index()\n",
    "\n",
    "    # Parse Month-Year with textual month format\n",
    "    time_series['Month-Year'] = pd.to_datetime(time_series['Month-Year'], format='%B %Y', errors='coerce')\n",
    "\n",
    "    # Drop rows where date parsing failed\n",
    "    if time_series['Month-Year'].isna().any():\n",
    "        print(\"Warning: Some dates could not be parsed and were dropped.\")\n",
    "        time_series = time_series.dropna(subset=['Month-Year'])\n",
    "\n",
    "    # Set index to Month-Year and sort\n",
    "    time_series = time_series.set_index('Month-Year').sort_index()['Total_Value']\n",
    "\n",
    "    # Set frequency to monthly\n",
    "    time_series = time_series.asfreq('MS')\n",
    "\n",
    "    # Handle missing values in the time series\n",
    "    if time_series.isna().any():\n",
    "        print(\"Warning: Missing data detected. Filling missing values with linear interpolation.\")\n",
    "        time_series = time_series.interpolate(method='linear')\n",
    "\n",
    "    # Handle insufficient data points\n",
    "    if len(time_series) < 24:\n",
    "        print(\"Warning: Not enough data for seasonal decomposition. Using a non-seasonal model.\")\n",
    "        model = ExponentialSmoothing(time_series, trend='add', seasonal=None, initialization_method=\"estimated\")\n",
    "    else:\n",
    "        model = ExponentialSmoothing(\n",
    "            time_series,\n",
    "            trend='add',\n",
    "            seasonal='add',\n",
    "            seasonal_periods=12,\n",
    "            initialization_method=\"estimated\"\n",
    "        )\n",
    "\n",
    "    try:\n",
    "        # Fit the model\n",
    "        fitted_model = model.fit(optimized=True)\n",
    "    except Exception as e:\n",
    "        print(f\"Error fitting the model: {e}\")\n",
    "        return None\n",
    "\n",
    "    # Forecast next 3 months\n",
    "    forecast = fitted_model.forecast(steps=3)\n",
    "    return forecast\n",
    "\n",
    "# usage\n",
    "if __name__ == \"__main__\":\n",
    "    try:\n",
    "        # Loading your dataset\n",
    "        df = pd.read_csv(\"../cleaned_data.csv\")\n",
    "\n",
    "        # Forecasting sales\n",
    "        sales_forecast = forecast_sales(df)\n",
    "\n",
    "        if sales_forecast is not None:\n",
    "            print(\"\\n##### Next 3 months forecast:\")\n",
    "            print(sales_forecast)\n",
    "        else:\n",
    "            print(\"Forecasting failed.\")\n",
    "    except FileNotFoundError:\n",
    "        print(\"Error: The file '../cleaned_data.csv' was not found.\")\n",
    "    except Exception as e:\n",
    "        print(f\"An unexpected error occurred: {e}\")\n"
   ]
  }
 ],
 "metadata": {
  "kernelspec": {
   "display_name": "Python 3",
   "language": "python",
   "name": "python3"
  },
  "language_info": {
   "codemirror_mode": {
    "name": "ipython",
    "version": 3
   },
   "file_extension": ".py",
   "mimetype": "text/x-python",
   "name": "python",
   "nbconvert_exporter": "python",
   "pygments_lexer": "ipython3",
   "version": "3.8.10"
  }
 },
 "nbformat": 4,
 "nbformat_minor": 2
}
